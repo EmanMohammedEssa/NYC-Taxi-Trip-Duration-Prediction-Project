{
 "cells": [
  {
   "cell_type": "markdown",
   "id": "a47a24d3-e775-4970-9ebc-392a400bca02",
   "metadata": {},
   "source": [
    "# Importing necessary libraries"
   ]
  },
  {
   "cell_type": "code",
   "execution_count": 64,
   "id": "4b092190-5f9e-49f9-abb3-d9eecc0207ba",
   "metadata": {},
   "outputs": [],
   "source": [
    "import numpy as np \n",
    "import pandas as pd \n",
    "import matplotlib.pyplot as plt\n",
    "import seaborn as sns\n",
    "from sklearn.model_selection import train_test_split\n",
    "from sklearn.metrics import mean_squared_error\n",
    "from sklearn.model_selection import train_test_split\n",
    "import math\n",
    "import calendar\n",
    "from pandas.tseries.holiday import USFederalHolidayCalendar\n",
    "import time\n",
    "import os"
   ]
  },
  {
   "cell_type": "markdown",
   "id": "2b7dd838-5ed8-45b5-9262-6cf8fbcb1981",
   "metadata": {},
   "source": [
    "# Reading datasets into pandas DataFrames"
   ]
  },
  {
   "cell_type": "code",
   "execution_count": 65,
   "id": "584abdf7-75fa-417c-b3f6-c8984cba634c",
   "metadata": {},
   "outputs": [],
   "source": [
    "train_data = pd.read_csv('train_data.csv')   # Load training data\n",
    "val_data = pd.read_csv('val_data.csv')       # Load validation data\n",
    "test_data = pd.read_csv('test_data.csv')     # Load test data"
   ]
  },
  {
   "cell_type": "markdown",
   "id": "01101ef8-b2dd-4557-957c-8096a4d6cc17",
   "metadata": {},
   "source": [
    "# Displaying the first two rows of each dataset for quick inspection"
   ]
  },
  {
   "cell_type": "code",
   "execution_count": 66,
   "id": "28bb23ff-ed74-4a3e-94bc-f8c0bd9bb7ba",
   "metadata": {},
   "outputs": [
    {
     "data": {
      "text/html": [
       "<div>\n",
       "<style scoped>\n",
       "    .dataframe tbody tr th:only-of-type {\n",
       "        vertical-align: middle;\n",
       "    }\n",
       "\n",
       "    .dataframe tbody tr th {\n",
       "        vertical-align: top;\n",
       "    }\n",
       "\n",
       "    .dataframe thead th {\n",
       "        text-align: right;\n",
       "    }\n",
       "</style>\n",
       "<table border=\"1\" class=\"dataframe\">\n",
       "  <thead>\n",
       "    <tr style=\"text-align: right;\">\n",
       "      <th></th>\n",
       "      <th>id</th>\n",
       "      <th>vendor_id</th>\n",
       "      <th>pickup_datetime</th>\n",
       "      <th>passenger_count</th>\n",
       "      <th>pickup_longitude</th>\n",
       "      <th>pickup_latitude</th>\n",
       "      <th>dropoff_longitude</th>\n",
       "      <th>dropoff_latitude</th>\n",
       "      <th>store_and_fwd_flag</th>\n",
       "      <th>trip_duration</th>\n",
       "    </tr>\n",
       "  </thead>\n",
       "  <tbody>\n",
       "    <tr>\n",
       "      <th>0</th>\n",
       "      <td>id2793718</td>\n",
       "      <td>2</td>\n",
       "      <td>2016-06-08 07:36:19</td>\n",
       "      <td>1</td>\n",
       "      <td>-73.986</td>\n",
       "      <td>40.736</td>\n",
       "      <td>-73.980</td>\n",
       "      <td>40.760</td>\n",
       "      <td>N</td>\n",
       "      <td>1040</td>\n",
       "    </tr>\n",
       "    <tr>\n",
       "      <th>1</th>\n",
       "      <td>id3485529</td>\n",
       "      <td>2</td>\n",
       "      <td>2016-04-03 12:58:11</td>\n",
       "      <td>1</td>\n",
       "      <td>-73.978</td>\n",
       "      <td>40.764</td>\n",
       "      <td>-73.992</td>\n",
       "      <td>40.750</td>\n",
       "      <td>N</td>\n",
       "      <td>827</td>\n",
       "    </tr>\n",
       "  </tbody>\n",
       "</table>\n",
       "</div>"
      ],
      "text/plain": [
       "          id  vendor_id      pickup_datetime  passenger_count  \\\n",
       "0  id2793718          2  2016-06-08 07:36:19                1   \n",
       "1  id3485529          2  2016-04-03 12:58:11                1   \n",
       "\n",
       "   pickup_longitude  pickup_latitude  dropoff_longitude  dropoff_latitude  \\\n",
       "0           -73.986           40.736            -73.980            40.760   \n",
       "1           -73.978           40.764            -73.992            40.750   \n",
       "\n",
       "  store_and_fwd_flag  trip_duration  \n",
       "0                  N           1040  \n",
       "1                  N            827  "
      ]
     },
     "execution_count": 66,
     "metadata": {},
     "output_type": "execute_result"
    }
   ],
   "source": [
    "train_data.head(2)"
   ]
  },
  {
   "cell_type": "code",
   "execution_count": 67,
   "id": "5e4be4c2-5a29-42c7-94c2-56964e398fbf",
   "metadata": {},
   "outputs": [
    {
     "data": {
      "text/html": [
       "<div>\n",
       "<style scoped>\n",
       "    .dataframe tbody tr th:only-of-type {\n",
       "        vertical-align: middle;\n",
       "    }\n",
       "\n",
       "    .dataframe tbody tr th {\n",
       "        vertical-align: top;\n",
       "    }\n",
       "\n",
       "    .dataframe thead th {\n",
       "        text-align: right;\n",
       "    }\n",
       "</style>\n",
       "<table border=\"1\" class=\"dataframe\">\n",
       "  <thead>\n",
       "    <tr style=\"text-align: right;\">\n",
       "      <th></th>\n",
       "      <th>id</th>\n",
       "      <th>vendor_id</th>\n",
       "      <th>pickup_datetime</th>\n",
       "      <th>passenger_count</th>\n",
       "      <th>pickup_longitude</th>\n",
       "      <th>pickup_latitude</th>\n",
       "      <th>dropoff_longitude</th>\n",
       "      <th>dropoff_latitude</th>\n",
       "      <th>store_and_fwd_flag</th>\n",
       "      <th>trip_duration</th>\n",
       "    </tr>\n",
       "  </thead>\n",
       "  <tbody>\n",
       "    <tr>\n",
       "      <th>0</th>\n",
       "      <td>id2542907</td>\n",
       "      <td>1</td>\n",
       "      <td>2016-01-10 16:01:46</td>\n",
       "      <td>1</td>\n",
       "      <td>-74.014</td>\n",
       "      <td>40.713</td>\n",
       "      <td>-73.994</td>\n",
       "      <td>40.753</td>\n",
       "      <td>N</td>\n",
       "      <td>1249</td>\n",
       "    </tr>\n",
       "    <tr>\n",
       "      <th>1</th>\n",
       "      <td>id1709406</td>\n",
       "      <td>1</td>\n",
       "      <td>2016-06-23 18:41:05</td>\n",
       "      <td>1</td>\n",
       "      <td>-74.005</td>\n",
       "      <td>40.727</td>\n",
       "      <td>-73.983</td>\n",
       "      <td>40.735</td>\n",
       "      <td>N</td>\n",
       "      <td>817</td>\n",
       "    </tr>\n",
       "  </tbody>\n",
       "</table>\n",
       "</div>"
      ],
      "text/plain": [
       "          id  vendor_id      pickup_datetime  passenger_count  \\\n",
       "0  id2542907          1  2016-01-10 16:01:46                1   \n",
       "1  id1709406          1  2016-06-23 18:41:05                1   \n",
       "\n",
       "   pickup_longitude  pickup_latitude  dropoff_longitude  dropoff_latitude  \\\n",
       "0           -74.014           40.713            -73.994            40.753   \n",
       "1           -74.005           40.727            -73.983            40.735   \n",
       "\n",
       "  store_and_fwd_flag  trip_duration  \n",
       "0                  N           1249  \n",
       "1                  N            817  "
      ]
     },
     "execution_count": 67,
     "metadata": {},
     "output_type": "execute_result"
    }
   ],
   "source": [
    "val_data.head(2)"
   ]
  },
  {
   "cell_type": "code",
   "execution_count": 68,
   "id": "182877c6-f5c5-4125-9d72-e3d93af99d39",
   "metadata": {},
   "outputs": [
    {
     "data": {
      "text/html": [
       "<div>\n",
       "<style scoped>\n",
       "    .dataframe tbody tr th:only-of-type {\n",
       "        vertical-align: middle;\n",
       "    }\n",
       "\n",
       "    .dataframe tbody tr th {\n",
       "        vertical-align: top;\n",
       "    }\n",
       "\n",
       "    .dataframe thead th {\n",
       "        text-align: right;\n",
       "    }\n",
       "</style>\n",
       "<table border=\"1\" class=\"dataframe\">\n",
       "  <thead>\n",
       "    <tr style=\"text-align: right;\">\n",
       "      <th></th>\n",
       "      <th>id</th>\n",
       "      <th>vendor_id</th>\n",
       "      <th>pickup_datetime</th>\n",
       "      <th>passenger_count</th>\n",
       "      <th>pickup_longitude</th>\n",
       "      <th>pickup_latitude</th>\n",
       "      <th>dropoff_longitude</th>\n",
       "      <th>dropoff_latitude</th>\n",
       "      <th>store_and_fwd_flag</th>\n",
       "      <th>trip_duration</th>\n",
       "    </tr>\n",
       "  </thead>\n",
       "  <tbody>\n",
       "    <tr>\n",
       "      <th>0</th>\n",
       "      <td>id2465947</td>\n",
       "      <td>1</td>\n",
       "      <td>2016-03-23 02:24:50</td>\n",
       "      <td>1</td>\n",
       "      <td>-73.989</td>\n",
       "      <td>40.749</td>\n",
       "      <td>-73.993</td>\n",
       "      <td>40.763</td>\n",
       "      <td>N</td>\n",
       "      <td>437</td>\n",
       "    </tr>\n",
       "    <tr>\n",
       "      <th>1</th>\n",
       "      <td>id0609375</td>\n",
       "      <td>1</td>\n",
       "      <td>2016-05-08 19:00:03</td>\n",
       "      <td>2</td>\n",
       "      <td>-74.013</td>\n",
       "      <td>40.716</td>\n",
       "      <td>-74.002</td>\n",
       "      <td>40.740</td>\n",
       "      <td>N</td>\n",
       "      <td>676</td>\n",
       "    </tr>\n",
       "  </tbody>\n",
       "</table>\n",
       "</div>"
      ],
      "text/plain": [
       "          id  vendor_id      pickup_datetime  passenger_count  \\\n",
       "0  id2465947          1  2016-03-23 02:24:50                1   \n",
       "1  id0609375          1  2016-05-08 19:00:03                2   \n",
       "\n",
       "   pickup_longitude  pickup_latitude  dropoff_longitude  dropoff_latitude  \\\n",
       "0           -73.989           40.749            -73.993            40.763   \n",
       "1           -74.013           40.716            -74.002            40.740   \n",
       "\n",
       "  store_and_fwd_flag  trip_duration  \n",
       "0                  N            437  \n",
       "1                  N            676  "
      ]
     },
     "execution_count": 68,
     "metadata": {},
     "output_type": "execute_result"
    }
   ],
   "source": [
    "test_data.head(2)"
   ]
  },
  {
   "cell_type": "markdown",
   "id": "9fb84357-c1dc-45da-8c5d-92621e9c46dd",
   "metadata": {},
   "source": [
    "# checking for null values"
   ]
  },
  {
   "cell_type": "code",
   "execution_count": 69,
   "id": "d000cf7d-ef4f-41aa-a429-c62477b8bab3",
   "metadata": {},
   "outputs": [
    {
     "data": {
      "text/plain": [
       "id                    0\n",
       "vendor_id             0\n",
       "pickup_datetime       0\n",
       "passenger_count       0\n",
       "pickup_longitude      0\n",
       "pickup_latitude       0\n",
       "dropoff_longitude     0\n",
       "dropoff_latitude      0\n",
       "store_and_fwd_flag    0\n",
       "trip_duration         0\n",
       "dtype: int64"
      ]
     },
     "execution_count": 69,
     "metadata": {},
     "output_type": "execute_result"
    }
   ],
   "source": [
    "train_data.isna().sum()"
   ]
  },
  {
   "cell_type": "markdown",
   "id": "6cd47fa7-5dd9-42df-a21d-971657f513ae",
   "metadata": {},
   "source": [
    "# Visualizing vendor distribution using bar and pie charts"
   ]
  },
  {
   "cell_type": "code",
   "execution_count": 70,
   "id": "9a9ad31f-1873-4456-bfce-603e42a56f55",
   "metadata": {},
   "outputs": [
    {
     "data": {
      "image/png": "[encoded data removed]",
      "text/plain": [
       "<Figure size 1200x500 with 2 Axes>"
      ]
     },
     "metadata": {},
     "output_type": "display_data"
    }
   ],
   "source": [
    "fig, axes = plt.subplots(nrows=1, ncols=2,figsize=(12,5))\n",
    "ax = train_data['vendor_id'].value_counts().plot(kind='bar',title=\"Vendors\",ax=axes[0],color = ('blue',(1, 0.5, 0.13)))\n",
    "train_data['vendor_id'].value_counts().plot(kind='pie',title=\"Vendors\",ax=axes[1])\n",
    "ax.set_ylabel(\"Count\")\n",
    "ax.set_xlabel(\"Vendor Id\")\n",
    "fig.tight_layout()"
   ]
  },
  {
   "cell_type": "code",
   "execution_count": 71,
   "id": "f36a40a5-6b52-4263-af57-0fea45632847",
   "metadata": {},
   "outputs": [
    {
     "data": {
      "text/plain": [
       "passenger_count\n",
       "1    708628\n",
       "2    143907\n",
       "5     53635\n",
       "3     41012\n",
       "6     33287\n",
       "4     19491\n",
       "0        38\n",
       "7         2\n",
       "Name: count, dtype: int64"
      ]
     },
     "execution_count": 71,
     "metadata": {},
     "output_type": "execute_result"
    }
   ],
   "source": [
    "pd.options.display.float_format = '{:.2f}'.format #To suppress scientific notation.\n",
    "train_data.passenger_count.value_counts()    # Checking the distribution of passenger counts"
   ]
  },
  {
   "cell_type": "code",
   "execution_count": 72,
   "id": "b2752221-c54e-4ffe-bd54-4f98ad3046eb",
   "metadata": {},
   "outputs": [
    {
     "data": {
      "image/png": "[encoded data removed]",
      "text/plain": [
       "<Figure size 1600x500 with 1 Axes>"
      ]
     },
     "metadata": {},
     "output_type": "display_data"
    },
    {
     "data": {
      "image/png": "[encoded data removed]",
      "text/plain": [
       "<Figure size 1600x500 with 1 Axes>"
      ]
     },
     "metadata": {},
     "output_type": "display_data"
    }
   ],
   "source": [
    "# Bar plot to visualize passenger count distribution\n",
    "fig, axes = plt.subplots(nrows=1, ncols=1,figsize=(16,5))\n",
    "line = train_data['passenger_count'].value_counts().plot(kind='bar',fontsize = 15)\n",
    "#line = sns.countplot(train_data.passenger_count)\n",
    "line.set_ylabel(\" Count\",fontsize = 15)\n",
    "line.set_xlabel(\"No. of Passenger \",fontsize = 15)\n",
    "line.set_title('Passenger Count',fontsize = 20)\n",
    "fig.tight_layout()\n",
    "# Box plot for passenger count\n",
    "fig, axes = plt.subplots(nrows=1, ncols=1,figsize=(16,5))\n",
    "box = train_data['passenger_count'].plot(kind='box',vert = False,fontsize = 15)\n",
    "box.set_title('Passenger Count',fontsize = 20)\n",
    "fig.tight_layout()"
   ]
  },
  {
   "cell_type": "markdown",
   "id": "6ac48d48-0a28-4913-a612-00ac86cc571c",
   "metadata": {},
   "source": [
    "# 0 and more than 6 passenger are outliers as more than 6 would not be a regular car for taxi"
   ]
  },
  {
   "cell_type": "code",
   "execution_count": 73,
   "id": "96022902-821d-4f96-b84f-89dbeecef71b",
   "metadata": {},
   "outputs": [],
   "source": [
    "train_data = train_data[~train_data['passenger_count'].isin([0, 7])]\n",
    "val_data = val_data[~val_data['passenger_count'].isin([0, 7])]\n",
    "test_data = test_data[~test_data['passenger_count'].isin([0, 7])]"
   ]
  },
  {
   "cell_type": "markdown",
   "id": "24b309b6-6ce7-4927-a399-c67d1e853d82",
   "metadata": {},
   "source": [
    "# Checking the unique values of passenger count after cleaning"
   ]
  },
  {
   "cell_type": "code",
   "execution_count": 74,
   "id": "6e42ec4c-71b6-4fd7-b585-8c1dbcb09c2a",
   "metadata": {},
   "outputs": [
    {
     "data": {
      "text/plain": [
       "array([1, 5, 2, 4, 3, 6], dtype=int64)"
      ]
     },
     "execution_count": 74,
     "metadata": {},
     "output_type": "execute_result"
    }
   ],
   "source": [
    "train_data['passenger_count'].unique()"
   ]
  },
  {
   "cell_type": "code",
   "execution_count": 75,
   "id": "7f4f5bd7-2b69-42c6-bd3f-cd8f7f5b3c86",
   "metadata": {},
   "outputs": [
    {
     "data": {
      "image/png": "[encoded data removed]",
      "text/plain": [
       "<Figure size 1600x500 with 1 Axes>"
      ]
     },
     "metadata": {},
     "output_type": "display_data"
    },
    {
     "data": {
      "image/png": "[encoded data removed]",
      "text/plain": [
       "<Figure size 1600x500 with 1 Axes>"
      ]
     },
     "metadata": {},
     "output_type": "display_data"
    }
   ],
   "source": [
    "# Re-plotting passenger count distribution after removing invalid values\n",
    "fig, axes = plt.subplots(nrows=1, ncols=1,figsize=(16,5))\n",
    "line = train_data['passenger_count'].value_counts().plot(kind='bar',fontsize = 15)\n",
    "#line = sns.countplot(train_data.passenger_count)\n",
    "line.set_ylabel(\" Count\",fontsize = 15)\n",
    "line.set_xlabel(\"No. of Passenger \",fontsize = 15)\n",
    "line.set_title('Passenger Count',fontsize = 20)\n",
    "fig.tight_layout()\n",
    "# Re-plotting box plot for passenger count after cleaning\n",
    "fig, axes = plt.subplots(nrows=1, ncols=1,figsize=(16,5))\n",
    "box = train_data['passenger_count'].plot(kind='box',vert = False,fontsize = 15)\n",
    "box.set_title('Passenger Count',fontsize = 20)\n",
    "fig.tight_layout()"
   ]
  },
  {
   "cell_type": "markdown",
   "id": "7ce06d87-04d5-4ad5-919b-2259328120a7",
   "metadata": {},
   "source": [
    "# Displaying the shape of the training data after cleaning"
   ]
  },
  {
   "cell_type": "code",
   "execution_count": 76,
   "id": "ab564f5c-faba-46dc-97a4-31fc74afa6c8",
   "metadata": {},
   "outputs": [
    {
     "data": {
      "text/plain": [
       "(999960, 10)"
      ]
     },
     "execution_count": 76,
     "metadata": {},
     "output_type": "execute_result"
    }
   ],
   "source": [
    "train_data.shape"
   ]
  },
  {
   "cell_type": "code",
   "execution_count": 77,
   "id": "46bec9de-d269-437b-a1cb-a591e05b6c26",
   "metadata": {},
   "outputs": [],
   "source": [
    "# Log-transforming trip duration to normalize its distribution\n",
    "train_data[\"log_trip_duraion\"] =  np.log(train_data[\"trip_duration\"])\n",
    "# Calculating mean and standard deviation of the log-transformed trip duration\n",
    "mean = np.mean(train_data[\"log_trip_duraion\"])\n",
    "std = np.std(train_data[\"log_trip_duraion\"])\n",
    "# Filtering out extreme log-transformed trip durations (values beyond 2 standard deviations)\n",
    "train_data = train_data[train_data['log_trip_duraion'] <= mean + 2*std]\n",
    "train_data = train_data[train_data['log_trip_duraion'] >= mean - 2*std]\n",
    "# Log-transforming and filtering the validation data\n",
    "val_data[\"log_trip_duraion\"] = np.log(val_data[\"trip_duration\"])\n",
    "val_data = val_data[val_data['log_trip_duraion'] <= mean + 2*std]\n",
    "val_data = val_data[val_data['log_trip_duraion'] >= mean - 2*std]\n",
    "# Log-transforming and filtering the test data\n",
    "test_data[\"log_trip_duraion\"] = np.log(test_data[\"trip_duration\"])\n",
    "test_data = test_data[test_data['log_trip_duraion'] <= mean + 2*std]\n",
    "test_data = test_data[test_data['log_trip_duraion'] >= mean - 2*std]"
   ]
  },
  {
   "cell_type": "markdown",
   "id": "46d5d23f-dac5-4aa7-beb9-0eaaf6c58459",
   "metadata": {},
   "source": [
    "# Displaying the first two rows of the cleaned training data"
   ]
  },
  {
   "cell_type": "code",
   "execution_count": 78,
   "id": "df3500a5-2ef3-4818-b59e-097ee3ce486f",
   "metadata": {},
   "outputs": [
    {
     "data": {
      "text/html": [
       "<div>\n",
       "<style scoped>\n",
       "    .dataframe tbody tr th:only-of-type {\n",
       "        vertical-align: middle;\n",
       "    }\n",
       "\n",
       "    .dataframe tbody tr th {\n",
       "        vertical-align: top;\n",
       "    }\n",
       "\n",
       "    .dataframe thead th {\n",
       "        text-align: right;\n",
       "    }\n",
       "</style>\n",
       "<table border=\"1\" class=\"dataframe\">\n",
       "  <thead>\n",
       "    <tr style=\"text-align: right;\">\n",
       "      <th></th>\n",
       "      <th>id</th>\n",
       "      <th>vendor_id</th>\n",
       "      <th>pickup_datetime</th>\n",
       "      <th>passenger_count</th>\n",
       "      <th>pickup_longitude</th>\n",
       "      <th>pickup_latitude</th>\n",
       "      <th>dropoff_longitude</th>\n",
       "      <th>dropoff_latitude</th>\n",
       "      <th>store_and_fwd_flag</th>\n",
       "      <th>trip_duration</th>\n",
       "      <th>log_trip_duraion</th>\n",
       "    </tr>\n",
       "  </thead>\n",
       "  <tbody>\n",
       "    <tr>\n",
       "      <th>0</th>\n",
       "      <td>id2793718</td>\n",
       "      <td>2</td>\n",
       "      <td>2016-06-08 07:36:19</td>\n",
       "      <td>1</td>\n",
       "      <td>-73.99</td>\n",
       "      <td>40.74</td>\n",
       "      <td>-73.98</td>\n",
       "      <td>40.76</td>\n",
       "      <td>N</td>\n",
       "      <td>1040</td>\n",
       "      <td>6.95</td>\n",
       "    </tr>\n",
       "    <tr>\n",
       "      <th>1</th>\n",
       "      <td>id3485529</td>\n",
       "      <td>2</td>\n",
       "      <td>2016-04-03 12:58:11</td>\n",
       "      <td>1</td>\n",
       "      <td>-73.98</td>\n",
       "      <td>40.76</td>\n",
       "      <td>-73.99</td>\n",
       "      <td>40.75</td>\n",
       "      <td>N</td>\n",
       "      <td>827</td>\n",
       "      <td>6.72</td>\n",
       "    </tr>\n",
       "  </tbody>\n",
       "</table>\n",
       "</div>"
      ],
      "text/plain": [
       "          id  vendor_id      pickup_datetime  passenger_count  \\\n",
       "0  id2793718          2  2016-06-08 07:36:19                1   \n",
       "1  id3485529          2  2016-04-03 12:58:11                1   \n",
       "\n",
       "   pickup_longitude  pickup_latitude  dropoff_longitude  dropoff_latitude  \\\n",
       "0            -73.99            40.74             -73.98             40.76   \n",
       "1            -73.98            40.76             -73.99             40.75   \n",
       "\n",
       "  store_and_fwd_flag  trip_duration  log_trip_duraion  \n",
       "0                  N           1040              6.95  \n",
       "1                  N            827              6.72  "
      ]
     },
     "execution_count": 78,
     "metadata": {},
     "output_type": "execute_result"
    }
   ],
   "source": [
    "train_data.head(2)"
   ]
  },
  {
   "cell_type": "markdown",
   "id": "bc35400a-eb42-417f-9edc-a22b3d463675",
   "metadata": {},
   "source": [
    "# Checking the shape of the datasets after cleaning"
   ]
  },
  {
   "cell_type": "code",
   "execution_count": 79,
   "id": "30e52fec-c07d-45a1-9fde-dedc8800ca26",
   "metadata": {},
   "outputs": [
    {
     "data": {
      "text/plain": [
       "(963362, 11)"
      ]
     },
     "execution_count": 79,
     "metadata": {},
     "output_type": "execute_result"
    }
   ],
   "source": [
    "train_data.shape"
   ]
  },
  {
   "cell_type": "code",
   "execution_count": 80,
   "id": "be5ae554-76c5-4227-ae9f-7a13cd4e0335",
   "metadata": {},
   "outputs": [
    {
     "data": {
      "text/plain": [
       "(220883, 11)"
      ]
     },
     "execution_count": 80,
     "metadata": {},
     "output_type": "execute_result"
    }
   ],
   "source": [
    "val_data.shape"
   ]
  },
  {
   "cell_type": "code",
   "execution_count": 81,
   "id": "639d73a5-f318-41e2-a3f7-2e18027b2771",
   "metadata": {},
   "outputs": [
    {
     "data": {
      "text/plain": [
       "(220872, 11)"
      ]
     },
     "execution_count": 81,
     "metadata": {},
     "output_type": "execute_result"
    }
   ],
   "source": [
    "test_data.shape"
   ]
  },
  {
   "cell_type": "code",
   "execution_count": 82,
   "id": "291f932a-3668-4b71-8003-f90363bac6e7",
   "metadata": {},
   "outputs": [],
   "source": [
    "# Filtering rows where the pickup and dropoff locations are within specified geographical bounds\n",
    "train_data = train_data[train_data['pickup_longitude'] <= -73.75]\n",
    "train_data = train_data[train_data['pickup_longitude'] >= -74.03]\n",
    "train_data = train_data[train_data['pickup_latitude'] <= 40.85]\n",
    "train_data = train_data[train_data['pickup_latitude'] >= 40.63]\n",
    "train_data = train_data[train_data['dropoff_longitude'] <= -73.75]\n",
    "train_data = train_data[train_data['dropoff_longitude'] >= -74.03]\n",
    "train_data = train_data[train_data['dropoff_latitude'] <= 40.85]\n",
    "train_data = train_data[train_data['dropoff_latitude'] >= 40.63]\n",
    "\n",
    "# Applying the same geographical bounds to the validation and test datasets\n",
    "val_data = val_data[val_data['pickup_longitude'] <= -73.75]\n",
    "val_data = val_data[val_data['pickup_longitude'] >= -74.03]\n",
    "val_data = val_data[val_data['pickup_latitude'] <= 40.85]\n",
    "val_data = val_data[val_data['pickup_latitude'] >= 40.63]\n",
    "val_data = val_data[val_data['dropoff_longitude'] <= -73.75]\n",
    "val_data = val_data[val_data['dropoff_longitude'] >= -74.03]\n",
    "val_data = val_data[val_data['dropoff_latitude'] <= 40.85]\n",
    "val_data = val_data[val_data['dropoff_latitude'] >= 40.63]\n",
    "\n",
    "test_data = test_data[test_data['pickup_longitude'] <= -73.75]\n",
    "test_data = test_data[test_data['pickup_longitude'] >= -74.03]\n",
    "test_data = test_data[test_data['pickup_latitude'] <= 40.85]\n",
    "test_data = test_data[test_data['pickup_latitude'] >= 40.63]\n",
    "test_data = test_data[test_data['dropoff_longitude'] <= -73.75]\n",
    "test_data = test_data[test_data['dropoff_longitude'] >= -74.03]\n",
    "test_data = test_data[test_data['dropoff_latitude'] <= 40.85]\n",
    "test_data = test_data[test_data['dropoff_latitude'] >= 40.63]"
   ]
  },
  {
   "cell_type": "code",
   "execution_count": 83,
   "id": "0e109813-4ad3-4e2d-978e-518c1603ab7c",
   "metadata": {},
   "outputs": [
    {
     "data": {
      "text/html": [
       "<div>\n",
       "<style scoped>\n",
       "    .dataframe tbody tr th:only-of-type {\n",
       "        vertical-align: middle;\n",
       "    }\n",
       "\n",
       "    .dataframe tbody tr th {\n",
       "        vertical-align: top;\n",
       "    }\n",
       "\n",
       "    .dataframe thead th {\n",
       "        text-align: right;\n",
       "    }\n",
       "</style>\n",
       "<table border=\"1\" class=\"dataframe\">\n",
       "  <thead>\n",
       "    <tr style=\"text-align: right;\">\n",
       "      <th></th>\n",
       "      <th>vendor_id</th>\n",
       "      <th>passenger_count</th>\n",
       "      <th>pickup_longitude</th>\n",
       "      <th>pickup_latitude</th>\n",
       "      <th>dropoff_longitude</th>\n",
       "      <th>dropoff_latitude</th>\n",
       "      <th>trip_duration</th>\n",
       "      <th>log_trip_duraion</th>\n",
       "    </tr>\n",
       "  </thead>\n",
       "  <tbody>\n",
       "    <tr>\n",
       "      <th>count</th>\n",
       "      <td>951513.000</td>\n",
       "      <td>951513.000</td>\n",
       "      <td>951513.000</td>\n",
       "      <td>951513.000</td>\n",
       "      <td>951513.000</td>\n",
       "      <td>951513.000</td>\n",
       "      <td>951513.000</td>\n",
       "      <td>951513.000</td>\n",
       "    </tr>\n",
       "    <tr>\n",
       "      <th>mean</th>\n",
       "      <td>1.535</td>\n",
       "      <td>1.666</td>\n",
       "      <td>-73.975</td>\n",
       "      <td>40.752</td>\n",
       "      <td>-73.974</td>\n",
       "      <td>40.752</td>\n",
       "      <td>804.934</td>\n",
       "      <td>6.479</td>\n",
       "    </tr>\n",
       "    <tr>\n",
       "      <th>std</th>\n",
       "      <td>0.499</td>\n",
       "      <td>1.317</td>\n",
       "      <td>0.034</td>\n",
       "      <td>0.026</td>\n",
       "      <td>0.031</td>\n",
       "      <td>0.029</td>\n",
       "      <td>542.400</td>\n",
       "      <td>0.662</td>\n",
       "    </tr>\n",
       "    <tr>\n",
       "      <th>min</th>\n",
       "      <td>1.000</td>\n",
       "      <td>1.000</td>\n",
       "      <td>-74.030</td>\n",
       "      <td>40.630</td>\n",
       "      <td>-74.030</td>\n",
       "      <td>40.630</td>\n",
       "      <td>131.000</td>\n",
       "      <td>4.875</td>\n",
       "    </tr>\n",
       "    <tr>\n",
       "      <th>25%</th>\n",
       "      <td>1.000</td>\n",
       "      <td>1.000</td>\n",
       "      <td>-73.992</td>\n",
       "      <td>40.738</td>\n",
       "      <td>-73.991</td>\n",
       "      <td>40.736</td>\n",
       "      <td>408.000</td>\n",
       "      <td>6.011</td>\n",
       "    </tr>\n",
       "    <tr>\n",
       "      <th>50%</th>\n",
       "      <td>2.000</td>\n",
       "      <td>1.000</td>\n",
       "      <td>-73.982</td>\n",
       "      <td>40.754</td>\n",
       "      <td>-73.980</td>\n",
       "      <td>40.755</td>\n",
       "      <td>661.000</td>\n",
       "      <td>6.494</td>\n",
       "    </tr>\n",
       "    <tr>\n",
       "      <th>75%</th>\n",
       "      <td>2.000</td>\n",
       "      <td>2.000</td>\n",
       "      <td>-73.968</td>\n",
       "      <td>40.768</td>\n",
       "      <td>-73.964</td>\n",
       "      <td>40.769</td>\n",
       "      <td>1049.000</td>\n",
       "      <td>6.956</td>\n",
       "    </tr>\n",
       "    <tr>\n",
       "      <th>max</th>\n",
       "      <td>2.000</td>\n",
       "      <td>6.000</td>\n",
       "      <td>-73.753</td>\n",
       "      <td>40.850</td>\n",
       "      <td>-73.750</td>\n",
       "      <td>40.850</td>\n",
       "      <td>3167.000</td>\n",
       "      <td>8.061</td>\n",
       "    </tr>\n",
       "  </tbody>\n",
       "</table>\n",
       "</div>"
      ],
      "text/plain": [
       "       vendor_id  passenger_count  pickup_longitude  pickup_latitude  \\\n",
       "count 951513.000       951513.000        951513.000       951513.000   \n",
       "mean       1.535            1.666           -73.975           40.752   \n",
       "std        0.499            1.317             0.034            0.026   \n",
       "min        1.000            1.000           -74.030           40.630   \n",
       "25%        1.000            1.000           -73.992           40.738   \n",
       "50%        2.000            1.000           -73.982           40.754   \n",
       "75%        2.000            2.000           -73.968           40.768   \n",
       "max        2.000            6.000           -73.753           40.850   \n",
       "\n",
       "       dropoff_longitude  dropoff_latitude  trip_duration  log_trip_duraion  \n",
       "count         951513.000        951513.000     951513.000        951513.000  \n",
       "mean             -73.974            40.752        804.934             6.479  \n",
       "std                0.031             0.029        542.400             0.662  \n",
       "min              -74.030            40.630        131.000             4.875  \n",
       "25%              -73.991            40.736        408.000             6.011  \n",
       "50%              -73.980            40.755        661.000             6.494  \n",
       "75%              -73.964            40.769       1049.000             6.956  \n",
       "max              -73.750            40.850       3167.000             8.061  "
      ]
     },
     "execution_count": 83,
     "metadata": {},
     "output_type": "execute_result"
    }
   ],
   "source": [
    "pd.set_option('display.float_format', lambda x: '%.3f' % x) # Setting display format for floating-point numbers\n",
    "train_data.describe()  # Displaying descriptive statistics of the training data"
   ]
  },
  {
   "cell_type": "code",
   "execution_count": 84,
   "id": "1602a122-da05-40b7-b568-e4e7cc57a8ee",
   "metadata": {},
   "outputs": [],
   "source": [
    "# Separating the target variable (log_trip_duraion) for training, validation, and testing datasets\n",
    "y_train = train_data[\"log_trip_duraion\"]\n",
    "y_val = val_data[\"log_trip_duraion\"]\n",
    "y_test = test_data[\"log_trip_duraion\"]\n",
    "# Dropping the target variable from the feature set\n",
    "train_data = train_data.drop(columns=['log_trip_duraion'])\n",
    "val_data = val_data.drop(columns=['log_trip_duraion'])\n",
    "test_data = test_data.drop(columns=['log_trip_duraion'])"
   ]
  },
  {
   "cell_type": "markdown",
   "id": "7b81edb6-9ef1-421e-a29a-3b9e5e65c9be",
   "metadata": {},
   "source": [
    "# Adding a new feature: trip duration in hours"
   ]
  },
  {
   "cell_type": "code",
   "execution_count": 85,
   "id": "3f246b52-824d-4531-98f6-ec8647c84b25",
   "metadata": {},
   "outputs": [],
   "source": [
    "train_data['trip_duration_hours'] = train_data['trip_duration'] / 3600  \n",
    "val_data['trip_duration_hours'] = val_data['trip_duration'] / 3600\n",
    "test_data['trip_duration_hours'] = test_data['trip_duration'] / 3600"
   ]
  },
  {
   "cell_type": "markdown",
   "id": "3c629211-72ca-4d6e-b4e3-26f38ad3c8ea",
   "metadata": {},
   "source": [
    "# Dropping the original trip duration column as it is no longer needed"
   ]
  },
  {
   "cell_type": "code",
   "execution_count": 86,
   "id": "3ab28bbd-6cb3-4cda-9d96-96a34aa4a2f8",
   "metadata": {},
   "outputs": [],
   "source": [
    "train_data = train_data.drop(columns=['trip_duration'])\n",
    "val_data = val_data.drop(columns=['trip_duration'])\n",
    "test_data = test_data.drop(columns=['trip_duration'])"
   ]
  },
  {
   "cell_type": "markdown",
   "id": "214c8e6a-2d9a-4160-882c-153fd09903ec",
   "metadata": {},
   "source": [
    "# Displaying the shapes of the datasets to verify the changes"
   ]
  },
  {
   "cell_type": "code",
   "execution_count": 87,
   "id": "fd8df5a1-d5ca-45cf-bd49-b3f579fe3ed1",
   "metadata": {},
   "outputs": [
    {
     "data": {
      "text/plain": [
       "(951513, 10)"
      ]
     },
     "execution_count": 87,
     "metadata": {},
     "output_type": "execute_result"
    }
   ],
   "source": [
    "train_data.shape"
   ]
  },
  {
   "cell_type": "code",
   "execution_count": 88,
   "id": "c45c49eb-8433-4565-9326-e7bbf44f3b2b",
   "metadata": {},
   "outputs": [
    {
     "data": {
      "text/plain": [
       "(951513,)"
      ]
     },
     "execution_count": 88,
     "metadata": {},
     "output_type": "execute_result"
    }
   ],
   "source": [
    "y_train.shape"
   ]
  },
  {
   "cell_type": "code",
   "execution_count": 89,
   "id": "8a2c77a3-3678-4a36-b246-da87e2247377",
   "metadata": {},
   "outputs": [],
   "source": [
    "# Converting pickup_datetime to datetime type\n",
    "train_data['pickup_datetime'] = pd.to_datetime(train_data.pickup_datetime)\n",
    "val_data['pickup_datetime'] = pd.to_datetime(val_data.pickup_datetime)\n",
    "test_data['pickup_datetime'] = pd.to_datetime(test_data['pickup_datetime'])\n",
    "# Extracting additional features from the datetime column\n",
    "train_data.loc[:, 'pickup_date'] = train_data['pickup_datetime'].dt.date\n",
    "val_data.loc[:, 'pickup_date'] = val_data['pickup_datetime'].dt.date\n",
    "test_data.loc[:, 'pickup_date'] = test_data['pickup_datetime'].dt.date\n",
    "# Adding a feature: minute of the day\n",
    "train_data['minute_of_day'] = train_data['pickup_datetime'].dt.minute\n",
    "val_data['minute_of_day'] = val_data['pickup_datetime'].dt.minute\n",
    "test_data['minute_of_day'] = test_data['pickup_datetime'].dt.minute"
   ]
  },
  {
   "cell_type": "code",
   "execution_count": 90,
   "id": "afeb810a-71a5-4d5d-b906-82d7f47c79d9",
   "metadata": {},
   "outputs": [],
   "source": [
    "# Adding a binary feature to indicate rush hour (morning and evening rush periods)\n",
    "def is_rush_hour(hour):\n",
    "    return (7 <= hour <= 10) or (16 <= hour <= 19)\n",
    "\n",
    "train_data['rush_hour'] = train_data['pickup_datetime'].dt.hour.apply(is_rush_hour)\n",
    "val_data['rush_hour'] = val_data['pickup_datetime'].dt.hour.apply(is_rush_hour)\n",
    "test_data['rush_hour'] = test_data['pickup_datetime'].dt.hour.apply(is_rush_hour)"
   ]
  },
  {
   "cell_type": "code",
   "execution_count": 91,
   "id": "061dfdc2-8836-48fe-8fff-bd2ce1f0d751",
   "metadata": {},
   "outputs": [],
   "source": [
    "# Adding a categorical feature for the time period of the day (morning, afternoon, evening)\n",
    "def get_time_period(hour):\n",
    "    if 6 <= hour < 12:\n",
    "        return 'morning'\n",
    "    elif 12 <= hour < 18:\n",
    "        return 'afternoon'\n",
    "    else:\n",
    "        return 'evening'\n",
    "\n",
    "train_data['time_period'] = train_data['pickup_datetime'].dt.hour.apply(get_time_period)\n",
    "val_data['time_period'] = val_data['pickup_datetime'].dt.hour.apply(get_time_period)\n",
    "test_data['time_period'] = test_data['pickup_datetime'].dt.hour.apply(get_time_period)"
   ]
  },
  {
   "cell_type": "code",
   "execution_count": 92,
   "id": "7fb10c17-4fe5-4c20-8b55-c886d308198c",
   "metadata": {},
   "outputs": [],
   "source": [
    "# Converting categorical features (time_period and rush_hour) into dummy variables\n",
    "train_data = pd.get_dummies(train_data, columns=['time_period', 'rush_hour'])\n",
    "val_data = pd.get_dummies(val_data, columns=['time_period', 'rush_hour'])\n",
    "test_data = pd.get_dummies(test_data, columns=['time_period', 'rush_hour'])"
   ]
  },
  {
   "cell_type": "markdown",
   "id": "3907eee4-cb1e-4e66-89d2-b45aa8592854",
   "metadata": {},
   "source": [
    "# Adding features for geographical distances"
   ]
  },
  {
   "cell_type": "code",
   "execution_count": 93,
   "id": "3f1ff946-5be3-4bad-afed-abed5fd15e28",
   "metadata": {},
   "outputs": [],
   "source": [
    "# 1. Haversine Distance: Straight-line distance between pickup and dropoff locations\n",
    "def haversine_distance(lat1, lng1, lat2, lng2):\n",
    "    lat1, lng1, lat2, lng2 = map(np.radians, (lat1, lng1, lat2, lng2))\n",
    "    AVG_EARTH_RADIUS = 6371    # Average radius of Earth in kilometers\n",
    "    lat = lat2 - lat1\n",
    "    lng = lng2 - lng1\n",
    "    d = np.sin(lat * 0.5) ** 2 + np.cos(lat1) * np.cos(lat2) * np.sin(lng * 0.5) ** 2\n",
    "    h = 2 * AVG_EARTH_RADIUS * np.arcsin(np.sqrt(d))\n",
    "    return h\n",
    "\n",
    "# 2. Bearing Distance: Directional angle between pickup and dropoff locations \n",
    "def bearing_direction(lat1, lng1, lat2, lng2):\n",
    "    AVG_EARTH_RADIUS = 6371\n",
    "    lng_delta_rad = np.radians(lng2 - lng1)\n",
    "    lat1, lng1, lat2, lng2 = map(np.radians, (lat1, lng1, lat2, lng2))\n",
    "    y = np.sin(lng_delta_rad) * np.cos(lat2)\n",
    "    x = np.cos(lat1) * np.sin(lat2) - np.sin(lat1) * np.cos(lat2) * np.cos(lng_delta_rad)\n",
    "    return np.degrees(np.arctan2(y, x))\n",
    "\n",
    "# 3. Manhattan Distance: Sum of absolute distances along latitude and longitude\n",
    "def manhattan_distance(lat1, lng1, lat2, lng2):\n",
    "    a = haversine_distance(lat1, lng1, lat1, lng2)\n",
    "    b = haversine_distance(lat1, lng1, lat2, lng1)\n",
    "    return a + b"
   ]
  },
  {
   "cell_type": "markdown",
   "id": "e763ea2d-7c68-4c3b-9674-f2b7082a1ffd",
   "metadata": {},
   "source": [
    "# Adding calculated distances to the datasets"
   ]
  },
  {
   "cell_type": "code",
   "execution_count": 94,
   "id": "c87f1711-51c2-4575-bc9e-a3aef5252709",
   "metadata": {},
   "outputs": [],
   "source": [
    "train_data.loc[:, 'distance_haversine'] = haversine_distance(train_data['pickup_latitude'].values, train_data['pickup_longitude'].values, train_data['dropoff_latitude'].values, train_data['dropoff_longitude'].values)\n",
    "val_data.loc[:, 'distance_haversine'] = haversine_distance(val_data['pickup_latitude'].values, val_data['pickup_longitude'].values, val_data['dropoff_latitude'].values, val_data['dropoff_longitude'].values)\n",
    "test_data.loc[:, 'distance_haversine'] = haversine_distance(test_data['pickup_latitude'].values,test_data['pickup_longitude'].values,test_data['dropoff_latitude'].values,test_data['dropoff_longitude'].values)"
   ]
  },
  {
   "cell_type": "markdown",
   "id": "f0dabe70-760e-4a92-8c3f-87203b87c66f",
   "metadata": {},
   "source": [
    "# Adding the direction feature"
   ]
  },
  {
   "cell_type": "code",
   "execution_count": 95,
   "id": "5a7ab0d2-5730-413f-90ce-cd3acefe27fa",
   "metadata": {},
   "outputs": [],
   "source": [
    "train_data.loc[:, \"direction\"] = bearing_direction(train_data[\"pickup_latitude\"].values, train_data[\"pickup_longitude\"].values, train_data[\"dropoff_latitude\"].values, train_data[\"dropoff_longitude\"].values)\n",
    "val_data.loc[:, \"direction\"] = bearing_direction(val_data[\"pickup_latitude\"].values, val_data[\"pickup_longitude\"].values, val_data[\"dropoff_latitude\"].values, val_data[\"dropoff_longitude\"].values)\n",
    "test_data.loc[:, \"direction\"] = bearing_direction(test_data[\"pickup_latitude\"].values,test_data[\"pickup_longitude\"].values,test_data[\"dropoff_latitude\"].values,test_data[\"dropoff_longitude\"].values)"
   ]
  },
  {
   "cell_type": "markdown",
   "id": "b1e061d0-e87f-4b3a-8cec-eaf80a8720c8",
   "metadata": {},
   "source": [
    "# Adding Manhattan distance feature"
   ]
  },
  {
   "cell_type": "code",
   "execution_count": 96,
   "id": "9e493afc-1871-4fcd-8f16-c0ab08964c7e",
   "metadata": {},
   "outputs": [],
   "source": [
    "train_data.loc[:, \"manhattan_distance\"] =  manhattan_distance(train_data[\"pickup_latitude\"].values, train_data[\"pickup_longitude\"].values, train_data[\"dropoff_latitude\"].values, train_data[\"dropoff_longitude\"].values)\n",
    "val_data.loc[:, \"manhattan_distance\"] =  manhattan_distance(val_data[\"pickup_latitude\"].values, val_data[\"pickup_longitude\"].values, val_data[\"dropoff_latitude\"].values, val_data[\"dropoff_longitude\"].values)\n",
    "test_data.loc[:, \"manhattan_distance\"] = manhattan_distance(test_data[\"pickup_latitude\"].values,test_data[\"pickup_longitude\"].values,test_data[\"dropoff_latitude\"].values,test_data[\"dropoff_longitude\"].values)"
   ]
  },
  {
   "cell_type": "markdown",
   "id": "3a7e6431-9c68-4eff-9280-e13bea4a6c7d",
   "metadata": {},
   "source": [
    "# Calculating average speed (distance divided by time)"
   ]
  },
  {
   "cell_type": "code",
   "execution_count": 97,
   "id": "b955fd28-c364-4839-9f8e-a2592718365f",
   "metadata": {},
   "outputs": [],
   "source": [
    "train_data['average_speed'] = train_data['distance_haversine'] / train_data['trip_duration_hours']\n",
    "val_data['average_speed'] = val_data['distance_haversine'] / val_data['trip_duration_hours']\n",
    "test_data['average_speed'] = test_data['distance_haversine'] / test_data['trip_duration_hours']"
   ]
  },
  {
   "cell_type": "code",
   "execution_count": 98,
   "id": "acfddc6f-327c-4083-bb17-61a6d0c23446",
   "metadata": {},
   "outputs": [
    {
     "name": "stdout",
     "output_type": "stream",
     "text": [
      "\n",
      "Average Speed Statistics:\n",
      "count   951513.000\n",
      "mean        14.058\n",
      "std          7.315\n",
      "min          0.000\n",
      "25%          9.069\n",
      "50%         12.608\n",
      "75%         17.389\n",
      "max        318.580\n",
      "Name: average_speed, dtype: float64\n",
      "\n",
      "Train Data Traffic Congestion Counts:\n",
      "\n",
      "Validation Data Traffic Congestion Counts:\n",
      "traffic_congestion\n",
      "0    163823\n",
      "1     54407\n",
      "Name: count, dtype: int64\n",
      "\n",
      "Test Data Traffic Congestion Counts:\n",
      "traffic_congestion\n",
      "0    163635\n",
      "1     54517\n",
      "Name: count, dtype: int64\n"
     ]
    }
   ],
   "source": [
    "# Descriptive statistics for average speed\n",
    "speed_stats = train_data['average_speed'].describe()\n",
    "print(\"\\nAverage Speed Statistics:\")\n",
    "print(speed_stats)\n",
    "# Adding a binary feature for traffic congestion (low speed indicates congestion)\n",
    "threshold = speed_stats['25%']   # Using the 25th percentile as the congestion threshold\n",
    "train_data['traffic_congestion'] = train_data['average_speed'].apply(lambda x: 1 if x < threshold else 0)\n",
    "val_data['traffic_congestion'] = val_data['average_speed'].apply(lambda x: 1 if x < threshold else 0)\n",
    "test_data['traffic_congestion'] = test_data['average_speed'].apply(lambda x: 1 if x < threshold else 0)\n",
    "\n",
    "print(\"\\nTrain Data Traffic Congestion Counts:\")\n",
    "train_data['traffic_congestion'].value_counts()\n",
    "print(\"\\nValidation Data Traffic Congestion Counts:\")\n",
    "print(val_data['traffic_congestion'].value_counts())\n",
    "print(\"\\nTest Data Traffic Congestion Counts:\")\n",
    "print(test_data['traffic_congestion'].value_counts())"
   ]
  },
  {
   "cell_type": "markdown",
   "id": "23984abf-7eaa-4ec4-abf1-87e87d095acf",
   "metadata": {},
   "source": [
    "# Dropping trip_duration_hours as it is no longer needed"
   ]
  },
  {
   "cell_type": "code",
   "execution_count": 99,
   "id": "048c91f5-d495-40aa-8703-8f2c58baeb30",
   "metadata": {},
   "outputs": [],
   "source": [
    "train_data.drop(\"trip_duration_hours\", axis=1, inplace=True)\n",
    "val_data.drop(\"trip_duration_hours\", axis=1, inplace=True)\n",
    "test_data.drop(\"trip_duration_hours\", axis=1, inplace=True)"
   ]
  },
  {
   "cell_type": "code",
   "execution_count": 100,
   "id": "888a5073-9beb-4be8-9ed1-49dbc04b86aa",
   "metadata": {},
   "outputs": [
    {
     "data": {
      "text/html": [
       "<div>\n",
       "<style scoped>\n",
       "    .dataframe tbody tr th:only-of-type {\n",
       "        vertical-align: middle;\n",
       "    }\n",
       "\n",
       "    .dataframe tbody tr th {\n",
       "        vertical-align: top;\n",
       "    }\n",
       "\n",
       "    .dataframe thead th {\n",
       "        text-align: right;\n",
       "    }\n",
       "</style>\n",
       "<table border=\"1\" class=\"dataframe\">\n",
       "  <thead>\n",
       "    <tr style=\"text-align: right;\">\n",
       "      <th></th>\n",
       "      <th>id</th>\n",
       "      <th>vendor_id</th>\n",
       "      <th>pickup_datetime</th>\n",
       "      <th>passenger_count</th>\n",
       "      <th>pickup_longitude</th>\n",
       "      <th>pickup_latitude</th>\n",
       "      <th>dropoff_longitude</th>\n",
       "      <th>dropoff_latitude</th>\n",
       "      <th>store_and_fwd_flag</th>\n",
       "      <th>pickup_date</th>\n",
       "      <th>...</th>\n",
       "      <th>time_period_afternoon</th>\n",
       "      <th>time_period_evening</th>\n",
       "      <th>time_period_morning</th>\n",
       "      <th>rush_hour_False</th>\n",
       "      <th>rush_hour_True</th>\n",
       "      <th>distance_haversine</th>\n",
       "      <th>direction</th>\n",
       "      <th>manhattan_distance</th>\n",
       "      <th>average_speed</th>\n",
       "      <th>traffic_congestion</th>\n",
       "    </tr>\n",
       "  </thead>\n",
       "  <tbody>\n",
       "    <tr>\n",
       "      <th>0</th>\n",
       "      <td>id2793718</td>\n",
       "      <td>2</td>\n",
       "      <td>2016-06-08 07:36:19</td>\n",
       "      <td>1</td>\n",
       "      <td>-73.986</td>\n",
       "      <td>40.736</td>\n",
       "      <td>-73.980</td>\n",
       "      <td>40.760</td>\n",
       "      <td>N</td>\n",
       "      <td>2016-06-08</td>\n",
       "      <td>...</td>\n",
       "      <td>False</td>\n",
       "      <td>False</td>\n",
       "      <td>True</td>\n",
       "      <td>False</td>\n",
       "      <td>True</td>\n",
       "      <td>2.763</td>\n",
       "      <td>9.261</td>\n",
       "      <td>3.172</td>\n",
       "      <td>9.564</td>\n",
       "      <td>0</td>\n",
       "    </tr>\n",
       "    <tr>\n",
       "      <th>1</th>\n",
       "      <td>id3485529</td>\n",
       "      <td>2</td>\n",
       "      <td>2016-04-03 12:58:11</td>\n",
       "      <td>1</td>\n",
       "      <td>-73.978</td>\n",
       "      <td>40.764</td>\n",
       "      <td>-73.992</td>\n",
       "      <td>40.750</td>\n",
       "      <td>N</td>\n",
       "      <td>2016-04-03</td>\n",
       "      <td>...</td>\n",
       "      <td>True</td>\n",
       "      <td>False</td>\n",
       "      <td>False</td>\n",
       "      <td>True</td>\n",
       "      <td>False</td>\n",
       "      <td>1.959</td>\n",
       "      <td>-145.332</td>\n",
       "      <td>2.726</td>\n",
       "      <td>8.528</td>\n",
       "      <td>1</td>\n",
       "    </tr>\n",
       "    <tr>\n",
       "      <th>2</th>\n",
       "      <td>id1816614</td>\n",
       "      <td>2</td>\n",
       "      <td>2016-06-05 02:49:13</td>\n",
       "      <td>5</td>\n",
       "      <td>-73.989</td>\n",
       "      <td>40.744</td>\n",
       "      <td>-73.973</td>\n",
       "      <td>40.749</td>\n",
       "      <td>N</td>\n",
       "      <td>2016-06-05</td>\n",
       "      <td>...</td>\n",
       "      <td>False</td>\n",
       "      <td>True</td>\n",
       "      <td>False</td>\n",
       "      <td>True</td>\n",
       "      <td>False</td>\n",
       "      <td>1.405</td>\n",
       "      <td>70.081</td>\n",
       "      <td>1.799</td>\n",
       "      <td>8.236</td>\n",
       "      <td>1</td>\n",
       "    </tr>\n",
       "    <tr>\n",
       "      <th>3</th>\n",
       "      <td>id1050851</td>\n",
       "      <td>2</td>\n",
       "      <td>2016-05-05 17:18:27</td>\n",
       "      <td>2</td>\n",
       "      <td>-73.990</td>\n",
       "      <td>40.731</td>\n",
       "      <td>-73.991</td>\n",
       "      <td>40.749</td>\n",
       "      <td>N</td>\n",
       "      <td>2016-05-05</td>\n",
       "      <td>...</td>\n",
       "      <td>True</td>\n",
       "      <td>False</td>\n",
       "      <td>False</td>\n",
       "      <td>False</td>\n",
       "      <td>True</td>\n",
       "      <td>1.979</td>\n",
       "      <td>-2.290</td>\n",
       "      <td>2.056</td>\n",
       "      <td>8.216</td>\n",
       "      <td>1</td>\n",
       "    </tr>\n",
       "    <tr>\n",
       "      <th>5</th>\n",
       "      <td>id2734699</td>\n",
       "      <td>2</td>\n",
       "      <td>2016-04-14 12:17:42</td>\n",
       "      <td>3</td>\n",
       "      <td>-73.970</td>\n",
       "      <td>40.769</td>\n",
       "      <td>-73.963</td>\n",
       "      <td>40.767</td>\n",
       "      <td>N</td>\n",
       "      <td>2016-04-14</td>\n",
       "      <td>...</td>\n",
       "      <td>True</td>\n",
       "      <td>False</td>\n",
       "      <td>False</td>\n",
       "      <td>True</td>\n",
       "      <td>False</td>\n",
       "      <td>0.625</td>\n",
       "      <td>104.309</td>\n",
       "      <td>0.760</td>\n",
       "      <td>6.012</td>\n",
       "      <td>1</td>\n",
       "    </tr>\n",
       "  </tbody>\n",
       "</table>\n",
       "<p>5 rows × 21 columns</p>\n",
       "</div>"
      ],
      "text/plain": [
       "          id  vendor_id     pickup_datetime  passenger_count  \\\n",
       "0  id2793718          2 2016-06-08 07:36:19                1   \n",
       "1  id3485529          2 2016-04-03 12:58:11                1   \n",
       "2  id1816614          2 2016-06-05 02:49:13                5   \n",
       "3  id1050851          2 2016-05-05 17:18:27                2   \n",
       "5  id2734699          2 2016-04-14 12:17:42                3   \n",
       "\n",
       "   pickup_longitude  pickup_latitude  dropoff_longitude  dropoff_latitude  \\\n",
       "0           -73.986           40.736            -73.980            40.760   \n",
       "1           -73.978           40.764            -73.992            40.750   \n",
       "2           -73.989           40.744            -73.973            40.749   \n",
       "3           -73.990           40.731            -73.991            40.749   \n",
       "5           -73.970           40.769            -73.963            40.767   \n",
       "\n",
       "  store_and_fwd_flag pickup_date  ...  time_period_afternoon  \\\n",
       "0                  N  2016-06-08  ...                  False   \n",
       "1                  N  2016-04-03  ...                   True   \n",
       "2                  N  2016-06-05  ...                  False   \n",
       "3                  N  2016-05-05  ...                   True   \n",
       "5                  N  2016-04-14  ...                   True   \n",
       "\n",
       "   time_period_evening  time_period_morning  rush_hour_False  rush_hour_True  \\\n",
       "0                False                 True            False            True   \n",
       "1                False                False             True           False   \n",
       "2                 True                False             True           False   \n",
       "3                False                False            False            True   \n",
       "5                False                False             True           False   \n",
       "\n",
       "   distance_haversine  direction  manhattan_distance  average_speed  \\\n",
       "0               2.763      9.261               3.172          9.564   \n",
       "1               1.959   -145.332               2.726          8.528   \n",
       "2               1.405     70.081               1.799          8.236   \n",
       "3               1.979     -2.290               2.056          8.216   \n",
       "5               0.625    104.309               0.760          6.012   \n",
       "\n",
       "   traffic_congestion  \n",
       "0                   0  \n",
       "1                   1  \n",
       "2                   1  \n",
       "3                   1  \n",
       "5                   1  \n",
       "\n",
       "[5 rows x 21 columns]"
      ]
     },
     "execution_count": 100,
     "metadata": {},
     "output_type": "execute_result"
    }
   ],
   "source": [
    "train_data.head()"
   ]
  },
  {
   "cell_type": "code",
   "execution_count": 101,
   "id": "e4417ee6-d17e-4c75-8d73-1ad49d013d5a",
   "metadata": {},
   "outputs": [],
   "source": [
    "# Extracting the month from 'pickup_datetime' and creating a new 'Month' column for training and validation datasets\n",
    "train_data['Month'] = train_data['pickup_datetime'].dt.month\n",
    "val_data['Month'] = val_data['pickup_datetime'].dt.month\n",
    "# Extracting the day from 'pickup_datetime' and creating a new 'Day' column for training and validation datasets\n",
    "train_data[\"Day\"] = train_data.pickup_datetime.dt.day\n",
    "val_data[\"Day\"] = val_data.pickup_datetime.dt.day\n",
    "# Extracting the hour from 'pickup_datetime' and creating a new 'Hour' column for training and validation datasets\n",
    "train_data[\"Hour\"] = train_data.pickup_datetime.dt.hour\n",
    "val_data[\"Hour\"] = val_data.pickup_datetime.dt.hour\n",
    "#Extracting the day of the week from 'pickup_datetime' and creating a new 'Day_week' column for training and validation datasets\n",
    "train_data[\"Day_week\"] = train_data[\"pickup_datetime\"].dt.dayofweek\n",
    "val_data[\"Day_week\"] = val_data[\"pickup_datetime\"].dt.dayofweek\n",
    "# Extracting the week number from 'pickup_datetime' and creating a new 'Week' column for training and validation datasets\n",
    "train_data[\"Week\"] = train_data.pickup_datetime.dt.isocalendar().week\n",
    "val_data[\"Week\"] = val_data.pickup_datetime.dt.isocalendar().week\n",
    "# Extracting the month from 'pickup_datetime' and creating a new 'Month' column for the test dataset\n",
    "test_data['Month'] = test_data['pickup_datetime'].dt.month\n",
    "# Extracting the day from 'pickup_datetime' and creating a new 'Day' column for the test dataset\n",
    "test_data[\"Day\"] = test_data.pickup_datetime.dt.day\n",
    "# Extracting the hour from 'pickup_datetime' and creating a new 'Hour' column for the test dataset\n",
    "test_data[\"Hour\"] = test_data.pickup_datetime.dt.hour\n",
    "# Extracting the day of the week from 'pickup_datetime' and creating a new 'Day_week' column for the test dataset\n",
    "test_data[\"Day_week\"] = test_data[\"pickup_datetime\"].dt.dayofweek\n",
    "# Extracting the week number from 'pickup_datetime' and creating a new 'Week' column for the test dataset\n",
    "test_data[\"Week\"] = test_data.pickup_datetime.dt.isocalendar().week"
   ]
  },
  {
   "cell_type": "markdown",
   "id": "ca69fdcb-c79d-4db9-bb5d-ee65e7cb3ac5",
   "metadata": {},
   "source": [
    "# One-hot encoding the 'store_and_fwd_flag' column for training, validation, and test datasets"
   ]
  },
  {
   "cell_type": "code",
   "execution_count": 102,
   "id": "0d0bdba9-3dcb-42b1-972c-68b419f0a494",
   "metadata": {},
   "outputs": [],
   "source": [
    "train_data = pd.get_dummies(train_data, columns=['store_and_fwd_flag'])\n",
    "val_data = pd.get_dummies(val_data, columns=['store_and_fwd_flag'])\n",
    "test_data = pd.get_dummies(test_data, columns=['store_and_fwd_flag'])"
   ]
  },
  {
   "cell_type": "code",
   "execution_count": 103,
   "id": "83ca55c8-78d1-4a08-b524-c3d2e2f7d626",
   "metadata": {},
   "outputs": [
    {
     "data": {
      "text/html": [
       "<div>\n",
       "<style scoped>\n",
       "    .dataframe tbody tr th:only-of-type {\n",
       "        vertical-align: middle;\n",
       "    }\n",
       "\n",
       "    .dataframe tbody tr th {\n",
       "        vertical-align: top;\n",
       "    }\n",
       "\n",
       "    .dataframe thead th {\n",
       "        text-align: right;\n",
       "    }\n",
       "</style>\n",
       "<table border=\"1\" class=\"dataframe\">\n",
       "  <thead>\n",
       "    <tr style=\"text-align: right;\">\n",
       "      <th></th>\n",
       "      <th>id</th>\n",
       "      <th>vendor_id</th>\n",
       "      <th>pickup_datetime</th>\n",
       "      <th>passenger_count</th>\n",
       "      <th>pickup_longitude</th>\n",
       "      <th>pickup_latitude</th>\n",
       "      <th>dropoff_longitude</th>\n",
       "      <th>dropoff_latitude</th>\n",
       "      <th>pickup_date</th>\n",
       "      <th>minute_of_day</th>\n",
       "      <th>...</th>\n",
       "      <th>manhattan_distance</th>\n",
       "      <th>average_speed</th>\n",
       "      <th>traffic_congestion</th>\n",
       "      <th>Month</th>\n",
       "      <th>Day</th>\n",
       "      <th>Hour</th>\n",
       "      <th>Day_week</th>\n",
       "      <th>Week</th>\n",
       "      <th>store_and_fwd_flag_N</th>\n",
       "      <th>store_and_fwd_flag_Y</th>\n",
       "    </tr>\n",
       "  </thead>\n",
       "  <tbody>\n",
       "    <tr>\n",
       "      <th>0</th>\n",
       "      <td>id2793718</td>\n",
       "      <td>2</td>\n",
       "      <td>2016-06-08 07:36:19</td>\n",
       "      <td>1</td>\n",
       "      <td>-73.986</td>\n",
       "      <td>40.736</td>\n",
       "      <td>-73.980</td>\n",
       "      <td>40.760</td>\n",
       "      <td>2016-06-08</td>\n",
       "      <td>36</td>\n",
       "      <td>...</td>\n",
       "      <td>3.172</td>\n",
       "      <td>9.564</td>\n",
       "      <td>0</td>\n",
       "      <td>6</td>\n",
       "      <td>8</td>\n",
       "      <td>7</td>\n",
       "      <td>2</td>\n",
       "      <td>23</td>\n",
       "      <td>True</td>\n",
       "      <td>False</td>\n",
       "    </tr>\n",
       "    <tr>\n",
       "      <th>1</th>\n",
       "      <td>id3485529</td>\n",
       "      <td>2</td>\n",
       "      <td>2016-04-03 12:58:11</td>\n",
       "      <td>1</td>\n",
       "      <td>-73.978</td>\n",
       "      <td>40.764</td>\n",
       "      <td>-73.992</td>\n",
       "      <td>40.750</td>\n",
       "      <td>2016-04-03</td>\n",
       "      <td>58</td>\n",
       "      <td>...</td>\n",
       "      <td>2.726</td>\n",
       "      <td>8.528</td>\n",
       "      <td>1</td>\n",
       "      <td>4</td>\n",
       "      <td>3</td>\n",
       "      <td>12</td>\n",
       "      <td>6</td>\n",
       "      <td>13</td>\n",
       "      <td>True</td>\n",
       "      <td>False</td>\n",
       "    </tr>\n",
       "  </tbody>\n",
       "</table>\n",
       "<p>2 rows × 27 columns</p>\n",
       "</div>"
      ],
      "text/plain": [
       "          id  vendor_id     pickup_datetime  passenger_count  \\\n",
       "0  id2793718          2 2016-06-08 07:36:19                1   \n",
       "1  id3485529          2 2016-04-03 12:58:11                1   \n",
       "\n",
       "   pickup_longitude  pickup_latitude  dropoff_longitude  dropoff_latitude  \\\n",
       "0           -73.986           40.736            -73.980            40.760   \n",
       "1           -73.978           40.764            -73.992            40.750   \n",
       "\n",
       "  pickup_date  minute_of_day  ...  manhattan_distance  average_speed  \\\n",
       "0  2016-06-08             36  ...               3.172          9.564   \n",
       "1  2016-04-03             58  ...               2.726          8.528   \n",
       "\n",
       "   traffic_congestion  Month  Day  Hour  Day_week  Week  store_and_fwd_flag_N  \\\n",
       "0                   0      6    8     7         2    23                  True   \n",
       "1                   1      4    3    12         6    13                  True   \n",
       "\n",
       "   store_and_fwd_flag_Y  \n",
       "0                 False  \n",
       "1                 False  \n",
       "\n",
       "[2 rows x 27 columns]"
      ]
     },
     "execution_count": 103,
     "metadata": {},
     "output_type": "execute_result"
    }
   ],
   "source": [
    "train_data.head(2)"
   ]
  },
  {
   "cell_type": "code",
   "execution_count": 104,
   "id": "0251eaf8-9914-462d-9f00-a4e6aec70154",
   "metadata": {},
   "outputs": [],
   "source": [
    "# Converting the 'store_and_fwd_flag_N' column to integer type (np.int64) for the training,validation and test datasets\n",
    "train_data['store_and_fwd_flag_N'] = train_data['store_and_fwd_flag_N'].astype(np.int64)\n",
    "val_data['store_and_fwd_flag_N'] = val_data['store_and_fwd_flag_N'].astype(np.int64)\n",
    "test_data['store_and_fwd_flag_N'] = test_data['store_and_fwd_flag_N'].astype(np.int64)\n",
    "# Converting the 'store_and_fwd_flag_Y' column to integer type (np.int64) for the training, validation and test datasets\n",
    "train_data['store_and_fwd_flag_Y'] = train_data['store_and_fwd_flag_Y'].astype(np.int64)\n",
    "val_data['store_and_fwd_flag_Y'] = val_data['store_and_fwd_flag_Y'].astype(np.int64)\n",
    "test_data['store_and_fwd_flag_Y'] = test_data['store_and_fwd_flag_Y'].astype(np.int64)"
   ]
  },
  {
   "cell_type": "code",
   "execution_count": 105,
   "id": "34a4541d-c7bf-44d3-bd4f-e1dffb98bdd2",
   "metadata": {},
   "outputs": [
    {
     "data": {
      "text/plain": [
       "id                               object\n",
       "vendor_id                         int64\n",
       "pickup_datetime          datetime64[ns]\n",
       "passenger_count                   int64\n",
       "pickup_longitude                float64\n",
       "pickup_latitude                 float64\n",
       "dropoff_longitude               float64\n",
       "dropoff_latitude                float64\n",
       "pickup_date                      object\n",
       "minute_of_day                     int32\n",
       "time_period_afternoon              bool\n",
       "time_period_evening                bool\n",
       "time_period_morning                bool\n",
       "rush_hour_False                    bool\n",
       "rush_hour_True                     bool\n",
       "distance_haversine              float64\n",
       "direction                       float64\n",
       "manhattan_distance              float64\n",
       "average_speed                   float64\n",
       "traffic_congestion                int64\n",
       "Month                             int32\n",
       "Day                               int32\n",
       "Hour                              int32\n",
       "Day_week                          int32\n",
       "Week                             UInt32\n",
       "store_and_fwd_flag_N              int64\n",
       "store_and_fwd_flag_Y              int64\n",
       "dtype: object"
      ]
     },
     "execution_count": 105,
     "metadata": {},
     "output_type": "execute_result"
    }
   ],
   "source": [
    "train_data.dtypes"
   ]
  },
  {
   "cell_type": "code",
   "execution_count": 106,
   "id": "0d5a197b-069a-4e27-8680-55676587c70e",
   "metadata": {},
   "outputs": [],
   "source": [
    "from datetime import datetime, timedelta\n",
    "from pandas.tseries.holiday import USFederalHolidayCalendar\n",
    "# Creating an instance of the US Federal Holiday Calendar\n",
    "calendar = USFederalHolidayCalendar()\n",
    "# Getting the list of US Federal holidays\n",
    "holidays = calendar.holidays()\n",
    "# Creating a new column 'pickup_holiday' to mark if the pickup date is a holiday (1 if holiday, 0 otherwise)\n",
    "train_data['pickup_holiday'] = pd.to_datetime(train_data.pickup_datetime.dt.date).isin(holidays)\n",
    "train_data['pickup_holiday'] = train_data.pickup_holiday.map(lambda x: 1 if x == True else 0)\n",
    "# Creating a new column 'pickup_near_holiday' to mark if the pickup date is near a holiday (1 if near, 0 otherwise)\n",
    "# A pickup date is considered near a holiday if it is 1 day before or after a holiday\n",
    "train_data['pickup_near_holiday'] = (pd.to_datetime(train_data.pickup_datetime.dt.date).isin(holidays + timedelta(days=1)) | pd.to_datetime(train_data.pickup_datetime.dt.date).isin(holidays - timedelta(days=1)))\n",
    "# Mapping the boolean values to 1 and 0 for the 'pickup_near_holiday' column\n",
    "train_data['pickup_near_holiday'] = train_data.pickup_near_holiday.map(lambda x: 1 if x == True else 0)"
   ]
  },
  {
   "cell_type": "code",
   "execution_count": 107,
   "id": "6568d116-520c-4bbc-9314-8f20c047009a",
   "metadata": {},
   "outputs": [],
   "source": [
    "# Creating a new column 'pickup_holiday' in the validation dataset to mark if the pickup date is a holiday (1 if holiday, 0 otherwise)\n",
    "val_data['pickup_holiday'] = pd.to_datetime(val_data.pickup_datetime.dt.date).isin(holidays)\n",
    "val_data['pickup_holiday'] = val_data.pickup_holiday.map(lambda x: 1 if x == True else 0)\n",
    "# Creating a new column 'pickup_near_holiday' in the validation dataset to mark if the pickup date is near a holiday (1 if near, 0 otherwise)\n",
    "# A pickup date is considered near a holiday if it is 1 day before or after a holiday\n",
    "val_data['pickup_near_holiday'] = (pd.to_datetime(val_data.pickup_datetime.dt.date).isin(holidays + timedelta(days=1)) | pd.to_datetime(val_data.pickup_datetime.dt.date).isin(holidays - timedelta(days=1)))\n",
    "# Mapping the boolean values to 1 and 0 for the 'pickup_near_holiday' column in the validation dataset\n",
    "val_data['pickup_near_holiday'] = val_data.pickup_near_holiday.map(lambda x: 1 if x == True else 0)"
   ]
  },
  {
   "cell_type": "code",
   "execution_count": 108,
   "id": "2767100f-76ba-4c63-a348-7333b8c82014",
   "metadata": {},
   "outputs": [],
   "source": [
    "# Creating a new column 'pickup_holiday' in the test dataset to mark if the pickup date is a holiday (1 if holiday, 0 otherwise)\n",
    "test_data['pickup_holiday'] = pd.to_datetime(test_data.pickup_datetime.dt.date).isin(holidays)\n",
    "test_data['pickup_holiday'] = test_data.pickup_holiday.map(lambda x: 1 if x == True else 0)\n",
    "# Creating a new column 'pickup_near_holiday' in the test dataset to mark if the pickup date is near a holiday (1 if near, 0 otherwise)\n",
    "# A pickup date is considered near a holiday if it is 1 day before or after a holidaytest_data['pickup_near_holiday'] = (pd.to_datetime(test_data.pickup_datetime.dt.date).isin(holidays + timedelta(days=1)) | pd.to_datetime(test_data.pickup_datetime.dt.date).isin(holidays - timedelta(days=1)))\n",
    "test_data['pickup_near_holiday'] = (pd.to_datetime(test_data.pickup_datetime.dt.date).isin(holidays + timedelta(days=1)) | \n",
    "                                     pd.to_datetime(test_data.pickup_datetime.dt.date).isin(holidays - timedelta(days=1)))\n",
    "# Mapping the boolean values to 1 and 0 for the 'pickup_near_holiday' column in the test dataset\n",
    "test_data['pickup_near_holiday'] = test_data.pickup_near_holiday.map(lambda x: 1 if x == True else 0)"
   ]
  },
  {
   "cell_type": "code",
   "execution_count": 109,
   "id": "ceffdf03-3794-4df4-adbe-2d7e075932dc",
   "metadata": {},
   "outputs": [
    {
     "name": "stdout",
     "output_type": "stream",
     "text": [
      "<class 'pandas.core.frame.DataFrame'>\n",
      "Index: 951513 entries, 0 to 999999\n",
      "Data columns (total 29 columns):\n",
      " #   Column                 Non-Null Count   Dtype         \n",
      "---  ------                 --------------   -----         \n",
      " 0   id                     951513 non-null  object        \n",
      " 1   vendor_id              951513 non-null  int64         \n",
      " 2   pickup_datetime        951513 non-null  datetime64[ns]\n",
      " 3   passenger_count        951513 non-null  int64         \n",
      " 4   pickup_longitude       951513 non-null  float64       \n",
      " 5   pickup_latitude        951513 non-null  float64       \n",
      " 6   dropoff_longitude      951513 non-null  float64       \n",
      " 7   dropoff_latitude       951513 non-null  float64       \n",
      " 8   pickup_date            951513 non-null  object        \n",
      " 9   minute_of_day          951513 non-null  int32         \n",
      " 10  time_period_afternoon  951513 non-null  bool          \n",
      " 11  time_period_evening    951513 non-null  bool          \n",
      " 12  time_period_morning    951513 non-null  bool          \n",
      " 13  rush_hour_False        951513 non-null  bool          \n",
      " 14  rush_hour_True         951513 non-null  bool          \n",
      " 15  distance_haversine     951513 non-null  float64       \n",
      " 16  direction              951513 non-null  float64       \n",
      " 17  manhattan_distance     951513 non-null  float64       \n",
      " 18  average_speed          951513 non-null  float64       \n",
      " 19  traffic_congestion     951513 non-null  int64         \n",
      " 20  Month                  951513 non-null  int32         \n",
      " 21  Day                    951513 non-null  int32         \n",
      " 22  Hour                   951513 non-null  int32         \n",
      " 23  Day_week               951513 non-null  int32         \n",
      " 24  Week                   951513 non-null  UInt32        \n",
      " 25  store_and_fwd_flag_N   951513 non-null  int64         \n",
      " 26  store_and_fwd_flag_Y   951513 non-null  int64         \n",
      " 27  pickup_holiday         951513 non-null  int64         \n",
      " 28  pickup_near_holiday    951513 non-null  int64         \n",
      "dtypes: UInt32(1), bool(5), datetime64[ns](1), float64(8), int32(5), int64(7), object(2)\n",
      "memory usage: 165.2+ MB\n"
     ]
    }
   ],
   "source": [
    "train_data.info()"
   ]
  },
  {
   "cell_type": "code",
   "execution_count": 110,
   "id": "30287b1d-f1ec-4ad5-b84a-bae0b6c071e1",
   "metadata": {},
   "outputs": [],
   "source": [
    "# One-hot encoding the 'Hour' column for training, validation, and test datasets\n",
    "train_data = pd.get_dummies(train_data, columns=['Hour'])\n",
    "val_data = pd.get_dummies(val_data, columns=['Hour'])\n",
    "test_data = pd.get_dummies(test_data, columns=['Hour'])\n",
    "\n",
    "# One-hot encoding the 'Month' column for training, validation, and test datasets\n",
    "train_data = pd.get_dummies(train_data, columns=['Month'])\n",
    "val_data = pd.get_dummies(val_data, columns=['Month'])\n",
    "test_data = pd.get_dummies(test_data, columns=['Month'])\n",
    "\n",
    "# One-hot encoding the 'Day' column for training, validation, and test datasets\n",
    "train_data = pd.get_dummies(train_data, columns=['Day'])\n",
    "val_data = pd.get_dummies(val_data, columns=['Day'])\n",
    "test_data = pd.get_dummies(test_data, columns=['Day'])\n",
    "\n",
    "# One-hot encoding the 'Day_week' column for training, validation, and test datasets\n",
    "train_data = pd.get_dummies(train_data, columns=['Day_week'])\n",
    "val_data = pd.get_dummies(val_data, columns=['Day_week'])\n",
    "test_data = pd.get_dummies(test_data, columns=['Day_week'])"
   ]
  },
  {
   "cell_type": "code",
   "execution_count": 111,
   "id": "c5d4ed48-4bb7-4e93-92dc-4df7f5042043",
   "metadata": {},
   "outputs": [
    {
     "data": {
      "text/plain": [
       "Index(['id', 'vendor_id', 'pickup_datetime', 'passenger_count',\n",
       "       'pickup_longitude', 'pickup_latitude', 'dropoff_longitude',\n",
       "       'dropoff_latitude', 'pickup_date', 'minute_of_day',\n",
       "       'time_period_afternoon', 'time_period_evening', 'time_period_morning',\n",
       "       'rush_hour_False', 'rush_hour_True', 'distance_haversine', 'direction',\n",
       "       'manhattan_distance', 'average_speed', 'traffic_congestion', 'Week',\n",
       "       'store_and_fwd_flag_N', 'store_and_fwd_flag_Y', 'pickup_holiday',\n",
       "       'pickup_near_holiday', 'Hour_0', 'Hour_1', 'Hour_2', 'Hour_3', 'Hour_4',\n",
       "       'Hour_5', 'Hour_6', 'Hour_7', 'Hour_8', 'Hour_9', 'Hour_10', 'Hour_11',\n",
       "       'Hour_12', 'Hour_13', 'Hour_14', 'Hour_15', 'Hour_16', 'Hour_17',\n",
       "       'Hour_18', 'Hour_19', 'Hour_20', 'Hour_21', 'Hour_22', 'Hour_23',\n",
       "       'Month_1', 'Month_2', 'Month_3', 'Month_4', 'Month_5', 'Month_6',\n",
       "       'Day_1', 'Day_2', 'Day_3', 'Day_4', 'Day_5', 'Day_6', 'Day_7', 'Day_8',\n",
       "       'Day_9', 'Day_10', 'Day_11', 'Day_12', 'Day_13', 'Day_14', 'Day_15',\n",
       "       'Day_16', 'Day_17', 'Day_18', 'Day_19', 'Day_20', 'Day_21', 'Day_22',\n",
       "       'Day_23', 'Day_24', 'Day_25', 'Day_26', 'Day_27', 'Day_28', 'Day_29',\n",
       "       'Day_30', 'Day_31', 'Day_week_0', 'Day_week_1', 'Day_week_2',\n",
       "       'Day_week_3', 'Day_week_4', 'Day_week_5', 'Day_week_6'],\n",
       "      dtype='object')"
      ]
     },
     "execution_count": 111,
     "metadata": {},
     "output_type": "execute_result"
    }
   ],
   "source": [
    "train_data.columns"
   ]
  },
  {
   "cell_type": "markdown",
   "id": "d0fa33ba-d1ea-444b-80b2-b3278a4c176d",
   "metadata": {},
   "source": [
    "# Scaling numeric features for model training"
   ]
  },
  {
   "cell_type": "code",
   "execution_count": 112,
   "id": "f4070cdd-64e4-4f41-be00-f4e90f04f9be",
   "metadata": {},
   "outputs": [],
   "source": [
    "from sklearn.preprocessing import StandardScaler\n",
    "numeric_features = ['passenger_count','minute_of_day','distance_haversine', 'direction','manhattan_distance','store_and_fwd_flag_N',\n",
    "       'store_and_fwd_flag_Y', 'pickup_holiday', 'pickup_near_holiday','average_speed','traffic_congestion']\n",
    "scaler = StandardScaler()\n",
    "train_data[numeric_features] = scaler.fit_transform(train_data[numeric_features])\n",
    "val_data[numeric_features] = scaler.transform(val_data[numeric_features])\n",
    "test_data[numeric_features] = scaler.transform(test_data[numeric_features])"
   ]
  },
  {
   "cell_type": "markdown",
   "id": "dba90ed0-19eb-4c9f-b1ff-70a83f700aa5",
   "metadata": {},
   "source": [
    "# Dropping irrelevant columns"
   ]
  },
  {
   "cell_type": "code",
   "execution_count": 113,
   "id": "34aac026-650f-47b5-9f66-3196e4e269bf",
   "metadata": {},
   "outputs": [],
   "source": [
    "train_data.drop(\"pickup_date\", axis=1, inplace=True)\n",
    "val_data.drop(\"pickup_date\", axis=1, inplace=True)\n",
    "test_data.drop(\"pickup_date\", axis=1, inplace=True)\n",
    "train_data.drop(\"pickup_datetime\", axis=1, inplace=True)\n",
    "val_data.drop(\"pickup_datetime\", axis=1, inplace=True)\n",
    "test_data.drop(\"pickup_datetime\", axis=1, inplace=True)\n",
    "train_data.drop(\"id\", axis=1, inplace=True)\n",
    "val_data.drop(\"id\", axis=1, inplace=True)\n",
    "test_data.drop(\"id\", axis=1, inplace=True)\n",
    "train_data.drop(\"vendor_id\", axis=1, inplace=True)\n",
    "val_data.drop(\"vendor_id\", axis=1, inplace=True)\n",
    "test_data.drop(\"vendor_id\", axis=1, inplace=True)\n",
    "train_data.drop(\"Week\", axis=1, inplace=True)\n",
    "val_data.drop(\"Week\", axis=1, inplace=True)\n",
    "test_data.drop(\"Week\", axis=1, inplace=True)"
   ]
  },
  {
   "cell_type": "code",
   "execution_count": 114,
   "id": "0f29e004-c273-4109-a3c9-bef7670523af",
   "metadata": {},
   "outputs": [
    {
     "name": "stdout",
     "output_type": "stream",
     "text": [
      "(951513, 88)\n",
      "(951513,)\n"
     ]
    }
   ],
   "source": [
    "print(train_data.shape)  \n",
    "print(y_train.shape)"
   ]
  },
  {
   "cell_type": "markdown",
   "id": "70c9b7a5-d445-431d-9941-9b840c6eabab",
   "metadata": {},
   "source": [
    "# Training a Ridge regression model"
   ]
  },
  {
   "cell_type": "code",
   "execution_count": 115,
   "id": "8237a8f3-f5cb-4dbd-9169-4c59eafe1824",
   "metadata": {},
   "outputs": [
    {
     "data": {
      "text/html": [
       "<style>#sk-container-id-1 {color: black;background-color: white;}#sk-container-id-1 pre{padding: 0;}#sk-container-id-1 div.sk-toggleable {background-color: white;}#sk-container-id-1 label.sk-toggleable__label {cursor: pointer;display: block;width: 100%;margin-bottom: 0;padding: 0.3em;box-sizing: border-box;text-align: center;}#sk-container-id-1 label.sk-toggleable__label-arrow:before {content: \"▸\";float: left;margin-right: 0.25em;color: #696969;}#sk-container-id-1 label.sk-toggleable__label-arrow:hover:before {color: black;}#sk-container-id-1 div.sk-estimator:hover label.sk-toggleable__label-arrow:before {color: black;}#sk-container-id-1 div.sk-toggleable__content {max-height: 0;max-width: 0;overflow: hidden;text-align: left;background-color: #f0f8ff;}#sk-container-id-1 div.sk-toggleable__content pre {margin: 0.2em;color: black;border-radius: 0.25em;background-color: #f0f8ff;}#sk-container-id-1 input.sk-toggleable__control:checked~div.sk-toggleable__content {max-height: 200px;max-width: 100%;overflow: auto;}#sk-container-id-1 input.sk-toggleable__control:checked~label.sk-toggleable__label-arrow:before {content: \"▾\";}#sk-container-id-1 div.sk-estimator input.sk-toggleable__control:checked~label.sk-toggleable__label {background-color: #d4ebff;}#sk-container-id-1 div.sk-label input.sk-toggleable__control:checked~label.sk-toggleable__label {background-color: #d4ebff;}#sk-container-id-1 input.sk-hidden--visually {border: 0;clip: rect(1px 1px 1px 1px);clip: rect(1px, 1px, 1px, 1px);height: 1px;margin: -1px;overflow: hidden;padding: 0;position: absolute;width: 1px;}#sk-container-id-1 div.sk-estimator {font-family: monospace;background-color: #f0f8ff;border: 1px dotted black;border-radius: 0.25em;box-sizing: border-box;margin-bottom: 0.5em;}#sk-container-id-1 div.sk-estimator:hover {background-color: #d4ebff;}#sk-container-id-1 div.sk-parallel-item::after {content: \"\";width: 100%;border-bottom: 1px solid gray;flex-grow: 1;}#sk-container-id-1 div.sk-label:hover label.sk-toggleable__label {background-color: #d4ebff;}#sk-container-id-1 div.sk-serial::before {content: \"\";position: absolute;border-left: 1px solid gray;box-sizing: border-box;top: 0;bottom: 0;left: 50%;z-index: 0;}#sk-container-id-1 div.sk-serial {display: flex;flex-direction: column;align-items: center;background-color: white;padding-right: 0.2em;padding-left: 0.2em;position: relative;}#sk-container-id-1 div.sk-item {position: relative;z-index: 1;}#sk-container-id-1 div.sk-parallel {display: flex;align-items: stretch;justify-content: center;background-color: white;position: relative;}#sk-container-id-1 div.sk-item::before, #sk-container-id-1 div.sk-parallel-item::before {content: \"\";position: absolute;border-left: 1px solid gray;box-sizing: border-box;top: 0;bottom: 0;left: 50%;z-index: -1;}#sk-container-id-1 div.sk-parallel-item {display: flex;flex-direction: column;z-index: 1;position: relative;background-color: white;}#sk-container-id-1 div.sk-parallel-item:first-child::after {align-self: flex-end;width: 50%;}#sk-container-id-1 div.sk-parallel-item:last-child::after {align-self: flex-start;width: 50%;}#sk-container-id-1 div.sk-parallel-item:only-child::after {width: 0;}#sk-container-id-1 div.sk-dashed-wrapped {border: 1px dashed gray;margin: 0 0.4em 0.5em 0.4em;box-sizing: border-box;padding-bottom: 0.4em;background-color: white;}#sk-container-id-1 div.sk-label label {font-family: monospace;font-weight: bold;display: inline-block;line-height: 1.2em;}#sk-container-id-1 div.sk-label-container {text-align: center;}#sk-container-id-1 div.sk-container {/* jupyter's `normalize.less` sets `[hidden] { display: none; }` but bootstrap.min.css set `[hidden] { display: none !important; }` so we also need the `!important` here to be able to override the default hidden behavior on the sphinx rendered scikit-learn.org. See: https://github.com/scikit-learn/scikit-learn/issues/21755 */display: inline-block !important;position: relative;}#sk-container-id-1 div.sk-text-repr-fallback {display: none;}</style><div id=\"sk-container-id-1\" class=\"sk-top-container\"><div class=\"sk-text-repr-fallback\"><pre>Ridge()</pre><b>In a Jupyter environment, please rerun this cell to show the HTML representation or trust the notebook. <br />On GitHub, the HTML representation is unable to render, please try loading this page with nbviewer.org.</b></div><div class=\"sk-container\" hidden><div class=\"sk-item\"><div class=\"sk-estimator sk-toggleable\"><input class=\"sk-toggleable__control sk-hidden--visually\" id=\"sk-estimator-id-1\" type=\"checkbox\" checked><label for=\"sk-estimator-id-1\" class=\"sk-toggleable__label sk-toggleable__label-arrow\">Ridge</label><div class=\"sk-toggleable__content\"><pre>Ridge()</pre></div></div></div></div></div>"
      ],
      "text/plain": [
       "Ridge()"
      ]
     },
     "execution_count": 115,
     "metadata": {},
     "output_type": "execute_result"
    }
   ],
   "source": [
    "from sklearn.linear_model import Ridge\n",
    "model = Ridge(alpha=1.0)\n",
    "model.fit(train_data, y_train)"
   ]
  },
  {
   "cell_type": "markdown",
   "id": "de71301a-e86a-4371-8783-521922d6af19",
   "metadata": {},
   "source": [
    "# Evaluating model performance"
   ]
  },
  {
   "cell_type": "code",
   "execution_count": 116,
   "id": "a72bb8e7-7401-40ca-9b68-72a1cedea983",
   "metadata": {},
   "outputs": [
    {
     "name": "stdout",
     "output_type": "stream",
     "text": [
      "Training R^2: 0.7195\n"
     ]
    }
   ],
   "source": [
    "from sklearn.metrics import r2_score\n",
    "y_pred_train = model.predict(train_data)\n",
    "r2_train = r2_score(y_train, y_pred_train)\n",
    "print(f\"Training R^2: {r2_train:.4f}\")"
   ]
  },
  {
   "cell_type": "code",
   "execution_count": 117,
   "id": "408513a4-f98c-46a3-b9c8-ba25ea12401b",
   "metadata": {},
   "outputs": [
    {
     "name": "stdout",
     "output_type": "stream",
     "text": [
      "Validation R^2: 0.7207\n"
     ]
    }
   ],
   "source": [
    "y_pred_valid = model.predict(val_data)\n",
    "r2_valid = r2_score(y_val, y_pred_valid)\n",
    "print(f\"Validation R^2: {r2_valid:.4f}\")"
   ]
  },
  {
   "cell_type": "code",
   "execution_count": 118,
   "id": "934c52e6-c0cc-4cb3-87b1-54e9227d7285",
   "metadata": {},
   "outputs": [
    {
     "name": "stdout",
     "output_type": "stream",
     "text": [
      "testing R^2: 0.7166\n"
     ]
    }
   ],
   "source": [
    "y_pred_test = model.predict(test_data)\n",
    "r2_test = r2_score(y_test, y_pred_test)\n",
    "print(f\"testing R^2: {r2_test:.4f}\")"
   ]
  }
 ],
 "metadata": {
  "kernelspec": {
   "display_name": "Python 3 (ipykernel)",
   "language": "python",
   "name": "python3"
  },
  "language_info": {
   "codemirror_mode": {
    "name": "ipython",
    "version": 3
   },
   "file_extension": ".py",
   "mimetype": "text/x-python",
   "name": "python",
   "nbconvert_exporter": "python",
   "pygments_lexer": "ipython3",
   "version": "3.11.7"
  }
 },
 "nbformat": 4,
 "nbformat_minor": 5
}
